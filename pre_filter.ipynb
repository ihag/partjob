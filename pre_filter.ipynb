{
 "cells": [
  {
   "cell_type": "code",
   "execution_count": null,
   "metadata": {},
   "outputs": [],
   "source": [
    "import concurrent.futures\n",
    "import openpyxl\n",
    "import requests\n",
    "import re\n",
    "from bs4 import BeautifulSoup"
   ]
  },
  {
   "cell_type": "code",
   "execution_count": null,
   "metadata": {},
   "outputs": [],
   "source": [
    "def extract_budget_amount(url_value):\n",
    "    url = f\"https://www.g2b.go.kr:8081/ep/preparation/prestd/preStdDtl.do?preStdRegNo={url_value}\"\n",
    "    try:\n",
    "        response = requests.get(url)\n",
    "        soup = BeautifulSoup(response.content, 'html.parser')\n",
    "        budget_text = soup.find(string='배정예산액').find_next('td').text.strip()\n",
    "        if budget_text:\n",
    "            budget_amount = int(re.sub(r'[^0-9]', '', budget_text))\n",
    "            return budget_amount\n",
    "        else:\n",
    "            return None\n",
    "    except requests.exceptions.RequestException:\n",
    "        return None\n",
    "    except (AttributeError, ValueError):\n",
    "        return None"
   ]
  },
  {
   "cell_type": "code",
   "execution_count": null,
   "metadata": {},
   "outputs": [],
   "source": [
    "def process_row(row, worksheet):\n",
    "    url_value = worksheet.cell(row=row, column=11).value\n",
    "    organization_name = worksheet.cell(row=row, column=14).value\n",
    "    \n",
    "    if organization_name is None:\n",
    "        return\n",
    "\n",
    "    budget_amount = extract_budget_amount(url_value)\n",
    "    \n",
    "    if budget_amount is None:\n",
    "        worksheet.cell(row=row, column=6).value = \"?\"\n",
    "        worksheet.cell(row=row, column=7).value = \"예산없음\"\n",
    "    elif 1 < budget_amount < 90000000:\n",
    "        worksheet.cell(row=row, column=6).value = 0\n",
    "        worksheet.cell(row=row, column=7).value = budget_amount\n",
    "    elif budget_amount >= 90000000:\n",
    "        worksheet.cell(row=row, column=6).value = \"\"\n",
    "        worksheet.cell(row=row, column=7).value = budget_amount\n",
    "    else:\n",
    "        worksheet.cell(row=row, column=6).value = \"?\"\n",
    "        worksheet.cell(row=row, column=9).value = budget_amount\n",
    "    \n",
    "    organization_list = ['한국토지주택공사', '방위사업청', '한국마사회', '한국수자원공사', '한국가스공사', '한국도로공사', '해군군수사령부',\n",
    "                         '육군군수사령부', '공군군수사령부', '(주)유니비즈컨설팅']\n",
    "    if organization_name in organization_list:\n",
    "        worksheet.cell(row=row, column=6).value = 0"
   ]
  },
  {
   "cell_type": "code",
   "execution_count": null,
   "metadata": {},
   "outputs": [],
   "source": [
    "excel_file_path = input(\"파일명+확장자: \")\n",
    "workbook = openpyxl.load_workbook(excel_file_path)\n",
    "worksheet = workbook['상세정보_작업']\n",
    "\n",
    "with concurrent.futures.ThreadPoolExecutor() as executor:\n",
    "    row = 76\n",
    "    while True:\n",
    "        organization_name = worksheet.cell(row=row, column=14).value\n",
    "        if organization_name is None:\n",
    "            break\n",
    "        executor.submit(process_row, row, worksheet)\n",
    "        row += 1"
   ]
  },
  {
   "cell_type": "code",
   "execution_count": null,
   "metadata": {},
   "outputs": [],
   "source": [
    "workbook.save(excel_file_path)\n",
    "\n",
    "print(\"\\n완료\")"
   ]
  }
 ],
 "metadata": {
  "kernelspec": {
   "display_name": "dlex",
   "language": "python",
   "name": "conda"
  },
  "language_info": {
   "codemirror_mode": {
    "name": "ipython",
    "version": 3
   },
   "file_extension": ".py",
   "mimetype": "text/x-python",
   "name": "python",
   "nbconvert_exporter": "python",
   "pygments_lexer": "ipython3",
   "version": "3.9.4"
  },
  "orig_nbformat": 4
 },
 "nbformat": 4,
 "nbformat_minor": 2
}
