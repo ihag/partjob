{
 "cells": [
  {
   "cell_type": "code",
   "execution_count": 18,
   "metadata": {},
   "outputs": [],
   "source": [
    "import concurrent.futures\n",
    "import openpyxl\n",
    "import requests\n",
    "import re\n",
    "from bs4 import BeautifulSoup"
   ]
  },
  {
   "cell_type": "code",
   "execution_count": 19,
   "metadata": {},
   "outputs": [],
   "source": [
    "def get_list(url_value):\n",
    "    url = f\"https://www.g2b.go.kr:8081/ep/preparation/prestd/preStdDtl.do?preStdRegNo={url_value}\"\n",
    "    response = requests.get(url)\n",
    "    soup = BeautifulSoup(response.content, 'html.parser')\n",
    "    \n",
    "    # 1. 공개일시\n",
    "    open_date = soup.find(string='공개일시').find_next(\"td\").text.strip()\n",
    "    # 2. 의견등록마감일시\n",
    "    opinion_deadline = soup.find(string=\"의견등록마감일시\").find_next(\"td\").text.strip()\n",
    "    # 3. 사전규격등록번호\n",
    "    reg_no = int(soup.find(string=\"사전규격등록번호\").find_next(\"td\").text.strip())\n",
    "    # 4. 참조번호\n",
    "    ref_no = soup.find(string=\"참조번호\").find_next(\"td\").text.strip()\n",
    "    # 5. 사업명\n",
    "    project_name = soup.find(\"td\", {\"colspan\": \"3\"}).find(\"div\", class_=\"tb_inner\").text.strip()\n",
    "    # 6. 수요기관\n",
    "    demand_agency = soup.find(string=\"수요기관\").find_next(\"td\").text.strip()\n",
    "    # 7. 배정예산액\n",
    "    budget_text = soup.find(\"th\", string=\"배정예산액\").find_next(\"td\").text.strip()\n",
    "    budget_amount = int(re.sub(r'[^0-9]', '', budget_text))\n",
    "\n",
    "    return {\n",
    "                \"open_date\": open_date,\n",
    "                \"opinion_deadline\": opinion_deadline,\n",
    "                \"reg_no\": reg_no,\n",
    "                \"ref_no\": ref_no,\n",
    "                \"project_name\": project_name,\n",
    "                \"demand_agency\": demand_agency,\n",
    "                \"budget_amount\": budget_amount\n",
    "                }"
   ]
  },
  {
   "cell_type": "code",
   "execution_count": 20,
   "metadata": {},
   "outputs": [],
   "source": [
    "def process_row(row,list_row, worksheet):\n",
    "    url_value = worksheet.cell(row=row, column=11).value\n",
    "    \n",
    "    data_dict = get_list(url_value)\n",
    "    \n",
    "    worksheet.cell(row=list_row, column=1).value = list_row-1\n",
    "    worksheet.cell(row=list_row, column=5).value = data_dict[\"open_date\"][:10]\n",
    "    worksheet.cell(row=list_row, column=6).value = data_dict[\"opinion_deadline\"][:10]\n",
    "    worksheet.cell(row=list_row, column=10).value = data_dict[\"reg_no\"]\n",
    "    worksheet.cell(row=list_row, column=11).value = data_dict[\"ref_no\"]\n",
    "    worksheet.cell(row=list_row, column=12).value = data_dict[\"project_name\"]\n",
    "    worksheet.cell(row=list_row, column=13).value = data_dict[\"demand_agency\"]\n",
    "    worksheet.cell(row=list_row, column=15).value = data_dict[\"project_name\"]\n",
    "    worksheet.cell(row=list_row, column=17).value = data_dict[\"budget_amount\"]"
   ]
  },
  {
   "cell_type": "code",
   "execution_count": 21,
   "metadata": {},
   "outputs": [
    {
     "name": "stdout",
     "output_type": "stream",
     "text": [
      "완료\n"
     ]
    }
   ],
   "source": [
    "excel_file_path = input(\"파일명+확장자: \")\n",
    "workbook = openpyxl.load_workbook(excel_file_path)\n",
    "worksheet = workbook['상세정보_작업']\n",
    "\n",
    "with concurrent.futures.ThreadPoolExecutor() as executor:\n",
    "    row = 76\n",
    "    list_row = 2\n",
    "    while True:\n",
    "        cell_value = worksheet.cell(row=row, column=6).value\n",
    "        if cell_value != 1:\n",
    "            break\n",
    "        executor.submit(process_row, row, list_row, worksheet)\n",
    "        row += 1\n",
    "        list_row += 1"
   ]
  },
  {
   "cell_type": "code",
   "execution_count": 22,
   "metadata": {},
   "outputs": [],
   "source": [
    "workbook.save(excel_file_path)\n",
    "\n",
    "print(\"\\n완료\")"
   ]
  }
 ],
 "metadata": {
  "kernelspec": {
   "display_name": "Python 3",
   "language": "python",
   "name": "python3"
  },
  "language_info": {
   "codemirror_mode": {
    "name": "ipython",
    "version": 3
   },
   "file_extension": ".py",
   "mimetype": "text/x-python",
   "name": "python",
   "nbconvert_exporter": "python",
   "pygments_lexer": "ipython3",
   "version": "3.8.11"
  }
 },
 "nbformat": 4,
 "nbformat_minor": 2
}
